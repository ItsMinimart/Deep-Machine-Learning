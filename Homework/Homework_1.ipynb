{
 "cells": [
  {
   "cell_type": "code",
   "execution_count": 7,
   "id": "a25c0323",
   "metadata": {},
   "outputs": [
    {
     "name": "stdout",
     "output_type": "stream",
     "text": [
      "numpy:  2.3.1\n",
      "scipy:  1.16.0\n",
      "matplotlib:  3.10.3\n",
      "statsmodels:  0.14.5\n",
      "sklearn:  1.7.0\n",
      "pandas:  2.3.1\n",
      "seaborn:  0.13.2\n",
      "sys.prefix: /usr/local/python/3.12.1\n",
      "sys.base_prefix: /usr/local/python/3.12.1\n"
     ]
    }
   ],
   "source": [
    "import numpy\n",
    "import scipy\n",
    "import matplotlib\n",
    "import statsmodels\n",
    "import sklearn\n",
    "import pandas\n",
    "import seaborn\n",
    "import sys\n",
    "print(\"numpy: \", numpy.__version__ )\n",
    "print(\"scipy: \", scipy.__version__ )\n",
    "print(\"matplotlib: \", matplotlib.__version__ )\n",
    "print(\"statsmodels: \", statsmodels.__version__ )\n",
    "print(\"sklearn: \", sklearn.__version__ )\n",
    "print(\"pandas: \", pandas.__version__ )\n",
    "print(\"seaborn: \", seaborn.__version__ )\n",
    "print(f\"sys.prefix: {sys.prefix}\")\n",
    "print(f\"sys.base_prefix: {sys.base_prefix}\")"
   ]
  },
  {
   "cell_type": "code",
   "execution_count": 8,
   "id": "786b6303",
   "metadata": {},
   "outputs": [
    {
     "name": "stdout",
     "output_type": "stream",
     "text": [
      "tensor([[0.0649, 0.7702, 0.7998],\n",
      "        [0.4937, 0.4303, 0.6174],\n",
      "        [0.9338, 0.8068, 0.2702],\n",
      "        [0.2995, 0.6776, 0.4792],\n",
      "        [0.7526, 0.8383, 0.5948]])\n"
     ]
    }
   ],
   "source": [
    "from __future__ import print_function\n",
    "import torch\n",
    "x = torch.rand(5, 3)\n",
    "print(x)"
   ]
  },
  {
   "cell_type": "code",
   "execution_count": 9,
   "id": "8d071a38",
   "metadata": {},
   "outputs": [
    {
     "data": {
      "text/plain": [
       "False"
      ]
     },
     "execution_count": 9,
     "metadata": {},
     "output_type": "execute_result"
    }
   ],
   "source": [
    "import torch\n",
    "torch.cuda.is_available()\n"
   ]
  }
 ],
 "metadata": {
  "kernelspec": {
   "display_name": "Python 3",
   "language": "python",
   "name": "python3"
  },
  "language_info": {
   "codemirror_mode": {
    "name": "ipython",
    "version": 3
   },
   "file_extension": ".py",
   "mimetype": "text/x-python",
   "name": "python",
   "nbconvert_exporter": "python",
   "pygments_lexer": "ipython3",
   "version": "3.13.7"
  }
 },
 "nbformat": 4,
 "nbformat_minor": 5
}
